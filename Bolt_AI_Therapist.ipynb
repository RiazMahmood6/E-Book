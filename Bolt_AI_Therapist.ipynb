{
  "cells": [
    {
      "cell_type": "code",
      "source": [
        "import pandas as pd\n",
        "import requests\n",
        "import json"
      ],
      "metadata": {
        "id": "TRizHFH1NXjL"
      },
      "id": "TRizHFH1NXjL",
      "execution_count": 1,
      "outputs": []
    },
    {
      "cell_type": "code",
      "source": [
        "# Mount Google Drive\n",
        "from google.colab import drive\n",
        "drive.mount('/content/drive')"
      ],
      "metadata": {
        "colab": {
          "base_uri": "https://localhost:8080/"
        },
        "id": "3IpBgv6JN-tD",
        "outputId": "6396b64b-4ae1-4205-d78b-296905a82895"
      },
      "id": "3IpBgv6JN-tD",
      "execution_count": 2,
      "outputs": [
        {
          "output_type": "stream",
          "name": "stdout",
          "text": [
            "Mounted at /content/drive\n"
          ]
        }
      ]
    },
    {
      "cell_type": "code",
      "source": [
        "# Load the dataset\n",
        "train_df = pd.read_csv('/content/drive/My Drive/BD Calling/dataset/finetune_therapist_combined_train.csv')\n",
        "valid_df = pd.read_csv('/content/drive/My Drive/BD Calling/dataset/finetune_therapist_combined_valid.csv')"
      ],
      "metadata": {
        "id": "QQq3Nv65NaGy"
      },
      "id": "QQq3Nv65NaGy",
      "execution_count": 5,
      "outputs": []
    },
    {
      "cell_type": "code",
      "source": [
        "# Load the therapist prompts\n",
        "prompts_df = pd.read_csv('/content/drive/My Drive/BD Calling/dataset//therapist_prompts.csv')"
      ],
      "metadata": {
        "id": "oyYPZLMINccK"
      },
      "id": "oyYPZLMINccK",
      "execution_count": 6,
      "outputs": []
    },
    {
      "cell_type": "code",
      "source": [
        "# Define a function to generate a completion using the OpenRouter DeepSeek R1 API\n",
        "def generate_completion(prompt, api_key):\n",
        "    url = \"https://openrouter.ai/api/v1/chat/completions\"\n",
        "    headers = {\n",
        "        \"Authorization\": f\"Bearer {api_key}\",\n",
        "        \"Content-Type\": \"application/json\",\n",
        "    }\n",
        "    data = {\n",
        "        \"model\": \"deepseek/deepseek-r1\",\n",
        "        \"messages\": [\n",
        "            {\n",
        "                \"role\": \"user\",\n",
        "                \"content\": prompt\n",
        "            }\n",
        "        ],\n",
        "    }\n",
        "    response = requests.post(url, headers=headers, data=json.dumps(data))\n",
        "    if response.status_code == 200:\n",
        "        return response.json()[\"choices\"][0][\"content\"]\n",
        "    else:\n",
        "        return None\n",
        "\n",
        "# Define a function to fine-tune the model\n",
        "def fine_tune_model(api_key, prompts):\n",
        "    for prompt in prompts:\n",
        "        completion = generate_completion(prompt, api_key)\n",
        "        # Use the generated completion to fine-tune the model\n",
        "        print(f\"Prompt: {prompt}\")\n",
        "        print(f\"Completion: {completion}\")\n",
        "        print()\n",
        "\n",
        "# Use the therapist prompts to fine-tune the model\n",
        "api_key = \"YOUR_OPENROUTER_API_KEY\"\n",
        "prompts = prompts_df[\"positive example 1\"].tolist()\n",
        "fine_tune_model(api_key, prompts)\n"
      ],
      "metadata": {
        "colab": {
          "base_uri": "https://localhost:8080/"
        },
        "id": "xSSwXnLC4Mf4",
        "outputId": "9ea6d5fb-2313-4132-825b-8d8aaa2ec764"
      },
      "id": "xSSwXnLC4Mf4",
      "execution_count": 7,
      "outputs": [
        {
          "output_type": "stream",
          "name": "stdout",
          "text": [
            "Prompt: So, having a dependable and efficient means of transport for your daily commute seems to be a necessity for you, right?\n",
            "Completion: None\n",
            "\n",
            "Prompt: So, you are relieved and excited about finishing your masters program and starting your new job.\n",
            "Completion: None\n",
            "\n",
            "Prompt: Being financially secure is a top priority for you\n",
            "Completion: None\n",
            "\n",
            "Prompt: Whenever you overspend on luxury items, you struggle to pay your bills at the end of the month. \n",
            "Completion: None\n",
            "\n",
            "Prompt: You're striving to improve your health, but your demanding job leaves you with little time for exercise and nutrition.\n",
            "Completion: None\n",
            "\n",
            "Prompt: Your ability to adapt and overcome adversity really shows your resilience and determination.\n",
            "Completion: None\n",
            "\n",
            "Prompt: You mentioned you are trying to eat healthier. What changes did you make to your diet?\n",
            "Completion: None\n",
            "\n",
            "Prompt: That's fantastic, now let's focus on the goals you want to accomplish. Can you visualize any particular approach or strategy you'd like to implement to achieve these goals?\n",
            "Completion: None\n",
            "\n",
            "Prompt: Would you like to talk more about what that feels like for you right now?\n",
            "Completion: None\n",
            "\n",
            "Prompt: It may help to create a routine for daily relaxation techniques, such as deep breathing or meditation. This could assist in managing your anxiety levels.\n",
            "Completion: None\n",
            "\n",
            "Prompt: For the upcoming week, I would like you to practice deep-breathing exercises whenever you feel anxious. Please write down what triggered your anxiety and how the exercises helped you cope.\n",
            "Completion: None\n",
            "\n",
            "Prompt: I hear you, it's perfectly normal to feel overwhelmed given your circumstances.\n",
            "Completion: None\n",
            "\n",
            "Prompt: Stress is a normal biological response to perceived threats or challenges.\n",
            "Completion: None\n",
            "\n"
          ]
        }
      ]
    }
  ],
  "metadata": {
    "accelerator": "GPU",
    "colab": {
      "gpuType": "T4",
      "provenance": []
    },
    "kernelspec": {
      "display_name": "Python 3",
      "name": "python3"
    },
    "language_info": {
      "codemirror_mode": {
        "name": "ipython",
        "version": 3
      },
      "file_extension": ".py",
      "mimetype": "text/x-python",
      "name": "python",
      "nbconvert_exporter": "python",
      "pygments_lexer": "ipython3",
      "version": "3.12.1"
    },
    "papermill": {
      "default_parameters": {},
      "duration": 141.026058,
      "end_time": "2022-03-07T10:18:22.173787",
      "environment_variables": {},
      "exception": null,
      "input_path": "__notebook__.ipynb",
      "output_path": "__notebook__.ipynb",
      "parameters": {},
      "start_time": "2022-03-07T10:16:01.147729",
      "version": "2.3.3"
    }
  },
  "nbformat": 4,
  "nbformat_minor": 5
}